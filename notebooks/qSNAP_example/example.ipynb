{
 "cells": [
  {
   "cell_type": "markdown",
   "metadata": {},
   "source": [
    "# Load data"
   ]
  },
  {
   "cell_type": "code",
   "execution_count": 1,
   "metadata": {},
   "outputs": [],
   "source": [
    "from pymatgen import Structure\n",
    "from monty.serialization import loadfn\n",
    "\n",
    "data = loadfn('data.json')\n",
    "train_structures = [d['structure'] for d in data]\n",
    "train_energies = [d['outputs']['energy'] for d in data]\n",
    "train_forces = [d['outputs']['forces'] for d in data]"
   ]
  },
  {
   "cell_type": "markdown",
   "metadata": {},
   "source": [
    "# Setup the initial weights for training (If not, the weights for energy and force will be both equal to 1)"
   ]
  },
  {
   "cell_type": "code",
   "execution_count": 2,
   "metadata": {},
   "outputs": [],
   "source": [
    "import numpy as np\n",
    "from mlearn.data import pool_from, convert_docs\n",
    "\n",
    "train_pool = pool_from(train_structures, train_energies, train_forces)\n",
    "_, df = convert_docs(train_pool)\n",
    "\n",
    "weights = np.ones(len(df['dtype']), )\n",
    "\n",
    "# set the weights for energy equal to 100\n",
    "weights[df['dtype'] == 'energy'] = 100"
   ]
  },
  {
   "cell_type": "markdown",
   "metadata": {},
   "source": [
    "# Set up the qSNAP and train"
   ]
  },
  {
   "cell_type": "code",
   "execution_count": 3,
   "metadata": {},
   "outputs": [],
   "source": [
    "from mlearn.describers import BispectrumCoefficients\n",
    "from mlearn.models import LinearModel\n",
    "from mlearn.potentials.snap import SNAPotential\n",
    "\n",
    "element_profile = {'Mo': {'r': 0.5, 'w': 1}}\n",
    "describer = BispectrumCoefficients(rcutfac=5.0, twojmax=4, element_profile=element_profile, \n",
    "                                   quadratic=True, pot_fit=True)\n",
    "model = LinearModel(describer=describer)\n",
    "qsnap = SNAPotential(model=model)\n",
    "qsnap.train(train_structures, train_energies, train_forces, weights=weights)"
   ]
  },
  {
   "cell_type": "markdown",
   "metadata": {},
   "source": [
    "# Lattice constant, Elastic constant"
   ]
  },
  {
   "cell_type": "code",
   "execution_count": 4,
   "metadata": {},
   "outputs": [
    {
     "name": "stdout",
     "output_type": "stream",
     "text": [
      "Lattice a: 3.04335655890872, Lattice b: 3.04335655890872, Lattice c: 3.04335655890872\n"
     ]
    }
   ],
   "source": [
    "from mlearn.potentials.lammps.calcs import LatticeConstant\n",
    "\n",
    "conventional_cell = Structure.from_file('conventional.cif')\n",
    "lc_calculator = LatticeConstant(ff_settings=qsnap)\n",
    "a, b, c = lc_calculator.calculate([conventional_cell])[0]\n",
    "print('Lattice a: {}, Lattice b: {}, Lattice c: {}'.format(a, b, c))"
   ]
  },
  {
   "cell_type": "code",
   "execution_count": 5,
   "metadata": {},
   "outputs": [
    {
     "name": "stdout",
     "output_type": "stream",
     "text": [
      "C11: 3227.02362265649, C12: 2483.42898841636, C44: 436.179050004324, bulk modulus: 2731.29386648626\n"
     ]
    }
   ],
   "source": [
    "from mlearn.potentials.lammps.calcs import ElasticConstant\n",
    "\n",
    "ec_calculator = ElasticConstant(ff_settings=qsnap, lattice='bcc', alat=3.106)\n",
    "C11, C12, C44, bulk_modulus = ec_calculator.calculate()\n",
    "print('C11: {}, C12: {}, C44: {}, bulk modulus: {}'.format(C11, C12, C44, bulk_modulus))"
   ]
  },
  {
   "cell_type": "markdown",
   "metadata": {},
   "source": [
    "# Load model from parameters files"
   ]
  },
  {
   "cell_type": "code",
   "execution_count": 6,
   "metadata": {},
   "outputs": [],
   "source": [
    "from mlearn.potentials.snap import SNAPotential\n",
    "\n",
    "qsnap_loaded = SNAPotential.from_config(param_file='SNAPotential.snapparam', coeff_file='SNAPotential.snapcoeff')"
   ]
  },
  {
   "cell_type": "markdown",
   "metadata": {},
   "source": [
    "# Energy, force, stress prediction"
   ]
  },
  {
   "cell_type": "code",
   "execution_count": 7,
   "metadata": {},
   "outputs": [
    {
     "name": "stdout",
     "output_type": "stream",
     "text": [
      "energy: -463.40729428822\n",
      "forces: \n",
      " [[ -4.35009     1.97057     6.87678  ]\n",
      " [ -5.84681     4.50577     2.92247  ]\n",
      " [  4.84572    -9.812       6.3182   ]\n",
      " [  3.26106    -1.27683     2.03582  ]\n",
      " [ -0.745435    1.46983    -7.68259  ]\n",
      " [  0.104191   -9.01277    12.0424   ]\n",
      " [ 11.4797     -8.32839    -4.25459  ]\n",
      " [ -3.63831     3.00988     6.97344  ]\n",
      " [  5.67339     3.77283     3.84525  ]\n",
      " [ -4.45253     8.4348     15.8105   ]\n",
      " [  8.3741     -4.00962     5.70634  ]\n",
      " [  7.81246     3.48492    -3.91555  ]\n",
      " [  5.17492    -2.41186    -4.50414  ]\n",
      " [ -7.8016      3.79974    -0.286845 ]\n",
      " [-16.0136      1.20342     0.508142 ]\n",
      " [-11.224       3.02393    10.3126   ]\n",
      " [ -9.51594    -9.97033    -6.72337  ]\n",
      " [  2.60513    -2.00806     2.40102  ]\n",
      " [ -3.34591    -2.32787     4.79208  ]\n",
      " [-16.8236      1.90041    -0.96854  ]\n",
      " [  0.410324   -8.81339     2.46136  ]\n",
      " [-16.1998     -7.42978    -9.55334  ]\n",
      " [ -0.168133   -3.04826    -3.7939   ]\n",
      " [  3.89159    -3.70051    -3.79918  ]\n",
      " [ 14.7243     -2.7781     -4.14563  ]\n",
      " [  1.7036     -6.14498     6.26007  ]\n",
      " [ -8.31518   -11.2721      6.64795  ]\n",
      " [ -2.4704    -15.958      -8.51852  ]\n",
      " [ -4.10387     2.03514    -2.93603  ]\n",
      " [ 10.2258      9.3413      6.62885  ]\n",
      " [ 10.3612     15.1775      7.4446   ]\n",
      " [  4.25082     3.66889    -1.50265  ]\n",
      " [ -9.17136    13.0878      2.63087  ]\n",
      " [ -0.351831    5.25369    -3.2684   ]\n",
      " [-12.4262    -23.4645     -0.0936968]\n",
      " [  8.84121    -9.23141     4.50616  ]\n",
      " [  4.65529    -2.89773   -12.8172   ]\n",
      " [ -0.0399734  -0.937135   -3.98925  ]\n",
      " [ 11.2167     16.9905    -12.1779   ]\n",
      " [  1.93401     3.71566     4.76788  ]\n",
      " [ -0.978521  -11.1547     10.7589   ]\n",
      " [ -1.57713    -2.92322    -3.07715  ]\n",
      " [  1.99904    -7.19957     4.65821  ]\n",
      " [ -1.51706     7.23586     1.44446  ]\n",
      " [  6.74845    -5.64117    -3.43932  ]\n",
      " [ 10.3849     16.6221     -4.10353  ]\n",
      " [ 13.4828     10.4295     -8.54421  ]\n",
      " [ -6.47973    12.2594      1.83834  ]\n",
      " [ -3.66936    -6.7573      3.56473  ]\n",
      " [  8.68044     9.44004    -3.52696  ]\n",
      " [  4.00202     4.58489     4.25039  ]\n",
      " [-11.7458     -6.29408   -20.3586   ]\n",
      " [  5.8622      7.39668     2.74565  ]\n",
      " [ -9.73321    10.9888    -13.1724   ]]\n",
      "stresses:  [-188.51263622 -172.97942851 -206.00209903   -9.78091842    6.1997809\n",
      "   14.34149924]\n"
     ]
    }
   ],
   "source": [
    "from mlearn.potentials.lammps.calcs import EnergyForceStress\n",
    "\n",
    "struct = Structure.from_file('test_struct.cif')\n",
    "efs_calculator = EnergyForceStress(ff_settings=qsnap_loaded)\n",
    "energy, forces, stresses = efs_calculator.calculate([struct])[0]\n",
    "\n",
    "print('energy: {}'.format(energy))\n",
    "print('forces: \\n', forces)\n",
    "print('stresses: ', stresses)"
   ]
  },
  {
   "cell_type": "code",
   "execution_count": null,
   "metadata": {},
   "outputs": [],
   "source": []
  }
 ],
 "metadata": {
  "kernelspec": {
   "display_name": "Python 3",
   "language": "python",
   "name": "python3"
  },
  "language_info": {
   "codemirror_mode": {
    "name": "ipython",
    "version": 3
   },
   "file_extension": ".py",
   "mimetype": "text/x-python",
   "name": "python",
   "nbconvert_exporter": "python",
   "pygments_lexer": "ipython3",
   "version": "3.6.7"
  }
 },
 "nbformat": 4,
 "nbformat_minor": 2
}
