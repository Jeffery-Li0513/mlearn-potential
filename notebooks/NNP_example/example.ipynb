{
 "cells": [
  {
   "cell_type": "markdown",
   "metadata": {},
   "source": [
    "# Load data"
   ]
  },
  {
   "cell_type": "code",
   "execution_count": 1,
   "metadata": {},
   "outputs": [],
   "source": [
    "from pymatgen import Structure\n",
    "from monty.serialization import loadfn\n",
    "\n",
    "data = loadfn('data.json')\n",
    "train_structures = [d['structure'] for d in data]\n",
    "train_energies = [d['outputs']['energy'] for d in data]\n",
    "train_forces = [d['outputs']['forces'] for d in data]"
   ]
  },
  {
   "cell_type": "markdown",
   "metadata": {},
   "source": [
    "# Set up the NNP and train"
   ]
  },
  {
   "cell_type": "code",
   "execution_count": 2,
   "metadata": {},
   "outputs": [
    {
     "data": {
      "text/plain": [
       "0"
      ]
     },
     "execution_count": 2,
     "metadata": {},
     "output_type": "execute_result"
    }
   ],
   "source": [
    "from mlearn.potentials.nnp import NNPotential\n",
    "\n",
    "nnp = NNPotential()\n",
    "nnp.train(train_structures=train_structures,\n",
    "          energies=train_energies,\n",
    "          forces=train_forces,\n",
    "          cutoff_type=1, atom_energy=-4.14,\n",
    "          r_etas = [0.5, 1.0, 2.0],\n",
    "          r_shift=[0.0],\n",
    "          zetas=[1.0, 2.0, 4.0],\n",
    "          epochs = 10, r_cut=4.8, hidden_layers=[8, 8])"
   ]
  },
  {
   "cell_type": "markdown",
   "metadata": {},
   "source": [
    "# Lattice constant, Elastic constant"
   ]
  },
  {
   "cell_type": "code",
   "execution_count": 3,
   "metadata": {},
   "outputs": [
    {
     "name": "stdout",
     "output_type": "stream",
     "text": [
      "Lattice a: 3.11682098232346, Lattice b: 3.11682098232346, Lattice c: 3.11682098232346\n"
     ]
    }
   ],
   "source": [
    "from mlearn.potentials.lammps.calcs import LatticeConstant\n",
    "\n",
    "conventional_cell = Structure.from_file('conventional.cif')\n",
    "lc_calculator = LatticeConstant(ff_settings=nnp)\n",
    "a, b, c = lc_calculator.calculate([conventional_cell])[0]\n",
    "print('Lattice a: {}, Lattice b: {}, Lattice c: {}'.format(a, b, c))"
   ]
  },
  {
   "cell_type": "code",
   "execution_count": 4,
   "metadata": {},
   "outputs": [
    {
     "name": "stdout",
     "output_type": "stream",
     "text": [
      "C11: 1891.08588157437, C12: 1583.51362646124, C44: 127.632843899908, bulk modulus: 1686.03771150194\n"
     ]
    }
   ],
   "source": [
    "from mlearn.potentials.lammps.calcs import ElasticConstant\n",
    "\n",
    "ec_calculator = ElasticConstant(ff_settings=nnp, lattice='bcc', alat=3.106)\n",
    "C11, C12, C44, bulk_modulus = ec_calculator.calculate()\n",
    "print('C11: {}, C12: {}, C44: {}, bulk modulus: {}'.format(C11, C12, C44, bulk_modulus))"
   ]
  },
  {
   "cell_type": "markdown",
   "metadata": {},
   "source": [
    "# Load model from parameters files"
   ]
  },
  {
   "cell_type": "code",
   "execution_count": 5,
   "metadata": {},
   "outputs": [],
   "source": [
    "from mlearn.potentials.nnp import NNPotential\n",
    "\n",
    "nnp_loaded = NNPotential.from_config('input.nn', 'scaling.data', 'weights.data')"
   ]
  },
  {
   "cell_type": "markdown",
   "metadata": {},
   "source": [
    "# Energy, force, stress prediction"
   ]
  },
  {
   "cell_type": "code",
   "execution_count": 6,
   "metadata": {},
   "outputs": [
    {
     "name": "stdout",
     "output_type": "stream",
     "text": [
      "energy: -3734.08244351928\n",
      "forces: \n",
      " [[ 6.58465e+02  4.51711e+02 -6.75394e+02]\n",
      " [ 4.52466e+03 -1.17757e+03  7.77885e+02]\n",
      " [-4.92193e+01 -2.20098e+02  3.22273e+02]\n",
      " [-4.26189e+01 -7.03868e+01  3.04398e+01]\n",
      " [-3.35458e+02 -2.64674e+02 -5.31042e+00]\n",
      " [-4.25169e+02  7.45834e+02 -6.64879e+02]\n",
      " [-1.05633e+02  5.29713e+01  1.09211e+02]\n",
      " [ 3.93792e+02 -7.49834e+02  7.28043e+02]\n",
      " [ 4.06683e+02 -3.40036e+01  3.64031e+01]\n",
      " [-3.51473e+02 -5.04083e+03 -6.14042e+03]\n",
      " [ 5.24818e+01 -3.08489e+02 -6.68960e+01]\n",
      " [ 6.00224e+01  1.89148e+02  2.57944e+02]\n",
      " [-8.37456e+01  1.76310e+01 -2.21672e+01]\n",
      " [ 1.33050e+02 -4.06146e+01 -9.80264e+01]\n",
      " [ 3.23040e+02 -2.30522e+01 -2.18293e+02]\n",
      " [-5.90054e+02 -4.31821e+02  4.31893e+01]\n",
      " [ 4.40641e+00  8.75469e+01  2.70790e+01]\n",
      " [ 6.07223e+02  1.59326e+03  2.76147e+03]\n",
      " [ 1.15604e-02  3.29412e+01  1.51439e+02]\n",
      " [ 2.19256e+00  7.19628e+00 -1.00228e+02]\n",
      " [-2.60609e+02  4.14211e+02  6.63603e+01]\n",
      " [ 6.82806e+01  5.67329e+01  4.86627e+01]\n",
      " [-1.31569e+02  3.09083e+02  1.00032e+02]\n",
      " [ 2.13819e+02  8.37420e+02 -2.38444e+02]\n",
      " [ 6.65934e+02  4.91683e+03  6.13959e+03]\n",
      " [-1.99499e+02  2.33130e+02  4.10642e+01]\n",
      " [ 3.83695e+01  7.03539e+01 -1.99318e+01]\n",
      " [-6.73923e+02 -1.58910e+03 -2.71668e+03]\n",
      " [ 9.19626e+01 -6.93814e+01  1.88007e+02]\n",
      " [ 2.99506e+02 -3.95918e+02  2.11095e+03]\n",
      " [-7.74623e+01  1.86929e+01  1.54655e+01]\n",
      " [-5.69641e+02 -4.93396e+02  7.42251e+02]\n",
      " [-4.52458e+01 -7.07554e+01 -1.13819e+02]\n",
      " [-4.85352e+03  1.41545e+03 -1.01341e+03]\n",
      " [ 1.05086e+01  1.42593e+01  3.07677e+01]\n",
      " [ 3.81123e+02 -4.71133e+02  4.40857e+02]\n",
      " [ 8.52602e+03  4.95431e+03 -2.41070e+03]\n",
      " [-3.87391e+02 -7.15857e+01 -1.42899e+02]\n",
      " [-1.40661e+01  2.28846e+00 -3.70972e-01]\n",
      " [-2.66469e+02 -2.74081e+02 -4.86616e+01]\n",
      " [-3.09243e+01  8.41429e+01 -1.36708e+02]\n",
      " [ 7.55269e+01 -8.63937e+01 -1.16450e+01]\n",
      " [-3.48564e+00 -1.99519e+00 -1.10948e+01]\n",
      " [-1.52698e-01  9.59916e+01 -2.65390e+01]\n",
      " [-8.25359e+03 -4.37613e+03  2.58169e+02]\n",
      " [ 2.39433e+01 -2.19145e+01  1.71134e+01]\n",
      " [ 1.10145e+02  8.29158e+01 -1.15955e+02]\n",
      " [ 1.88639e+02 -1.53571e+02 -1.53017e+02]\n",
      " [ 8.61311e+01 -5.94690e+01  1.36290e+02]\n",
      " [-4.07450e+00 -2.95974e+01 -9.03345e-01]\n",
      " [-6.07659e+02 -5.32562e+02 -1.76659e+02]\n",
      " [ 7.53450e+01  5.21503e+01  1.62609e+02]\n",
      " [ 3.24047e+02  3.09085e+02 -4.04924e+02]\n",
      " [ 1.73327e+01  1.30660e+01 -9.57723e+00]]\n",
      "stresses:  [-5460.11806592 -3937.15662124 -3197.9797046  -1731.46543683\n",
      "  -460.73557196 -1755.71291019]\n"
     ]
    }
   ],
   "source": [
    "from mlearn.potentials.lammps.calcs import EnergyForceStress\n",
    "from pymatgen import Structure\n",
    "struct = Structure.from_file('test_struct.cif')\n",
    "efs_calculator = EnergyForceStress(ff_settings=nnp_loaded)\n",
    "energy, forces, stresses = efs_calculator.calculate([struct])[0]\n",
    "\n",
    "print('energy: {}'.format(energy))\n",
    "print('forces: \\n', forces)\n",
    "print('stresses: ', stresses)"
   ]
  },
  {
   "cell_type": "code",
   "execution_count": null,
   "metadata": {},
   "outputs": [],
   "source": []
  }
 ],
 "metadata": {
  "kernelspec": {
   "display_name": "Python 3",
   "language": "python",
   "name": "python3"
  },
  "language_info": {
   "codemirror_mode": {
    "name": "ipython",
    "version": 3
   },
   "file_extension": ".py",
   "mimetype": "text/x-python",
   "name": "python",
   "nbconvert_exporter": "python",
   "pygments_lexer": "ipython3",
   "version": "3.6.7"
  }
 },
 "nbformat": 4,
 "nbformat_minor": 2
}
