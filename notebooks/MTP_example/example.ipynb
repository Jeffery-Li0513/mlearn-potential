{
 "cells": [
  {
   "cell_type": "markdown",
   "metadata": {},
   "source": [
    "# Load data"
   ]
  },
  {
   "cell_type": "code",
   "execution_count": 1,
   "metadata": {},
   "outputs": [],
   "source": [
    "from pymatgen import Structure\n",
    "from monty.serialization import loadfn\n",
    "\n",
    "data = loadfn('data.json')\n",
    "train_structures = [d['structure'] for d in data]\n",
    "train_energies = [d['outputs']['energy'] for d in data]\n",
    "train_forces = [d['outputs']['forces'] for d in data]"
   ]
  },
  {
   "cell_type": "markdown",
   "metadata": {},
   "source": [
    "# Set up the MTP and train"
   ]
  },
  {
   "cell_type": "code",
   "execution_count": 2,
   "metadata": {},
   "outputs": [
    {
     "data": {
      "text/plain": [
       "0"
      ]
     },
     "execution_count": 2,
     "metadata": {},
     "output_type": "execute_result"
    }
   ],
   "source": [
    "from mlearn.potentials.mtp import MTPotential\n",
    "\n",
    "mtp = MTPotential()\n",
    "mtp.train(train_structures=train_structures, energies=train_energies, forces=train_forces, unfitted_mtp='08g.mtp', \n",
    "          energy_weight=1, force_weight=0.01, stress_weight=0, max_dist=4.8, max_iter=500)"
   ]
  },
  {
   "cell_type": "markdown",
   "metadata": {},
   "source": [
    "# Lattice constant, Elastic constant"
   ]
  },
  {
   "cell_type": "code",
   "execution_count": 3,
   "metadata": {},
   "outputs": [
    {
     "name": "stdout",
     "output_type": "stream",
     "text": [
      "Lattice a: 3.36157650899549, Lattice b: 3.36157650899548, Lattice c: 3.36157650899549\n"
     ]
    }
   ],
   "source": [
    "from mlearn.potentials.lammps.calcs import LatticeConstant\n",
    "\n",
    "conventional_cell = Structure.from_file('conventional.cif')\n",
    "lc_calculator = LatticeConstant(ff_settings=mtp)\n",
    "a, b, c = lc_calculator.calculate([conventional_cell])[0]\n",
    "print('Lattice a: {}, Lattice b: {}, Lattice c: {}'.format(a, b, c))"
   ]
  },
  {
   "cell_type": "code",
   "execution_count": 4,
   "metadata": {},
   "outputs": [
    {
     "name": "stdout",
     "output_type": "stream",
     "text": [
      "C11: 325.163807449281, C12: 134.403380849836, C44: 98.8407448572887, bulk modulus: 197.990189655684\n"
     ]
    }
   ],
   "source": [
    "from mlearn.potentials.lammps.calcs import ElasticConstant\n",
    "\n",
    "ec_calculator = ElasticConstant(ff_settings=mtp, lattice='bcc', alat=3.106)\n",
    "C11, C12, C44, bulk_modulus = ec_calculator.calculate()\n",
    "print('C11: {}, C12: {}, C44: {}, bulk modulus: {}'.format(C11, C12, C44, bulk_modulus))"
   ]
  },
  {
   "cell_type": "markdown",
   "metadata": {},
   "source": [
    "# Load model from *.mtp"
   ]
  },
  {
   "cell_type": "code",
   "execution_count": 5,
   "metadata": {},
   "outputs": [],
   "source": [
    "mtp_loaded = MTPotential.from_config('fitted.mtp')"
   ]
  },
  {
   "cell_type": "markdown",
   "metadata": {},
   "source": [
    "# Energy, force, stress prediction"
   ]
  },
  {
   "cell_type": "code",
   "execution_count": 6,
   "metadata": {},
   "outputs": [
    {
     "name": "stdout",
     "output_type": "stream",
     "text": [
      "energy: -517.912347611787\n",
      "forces: \n",
      " [[-0.567287  -0.999218   2.99811  ]\n",
      " [-2.93841    0.360879  -0.264224 ]\n",
      " [ 1.9756    -4.50984    2.50153  ]\n",
      " [ 1.72667    0.596511  -0.163787 ]\n",
      " [ 0.632484   1.25383   -0.303409 ]\n",
      " [ 1.59355   -1.6859     0.430083 ]\n",
      " [ 2.54958   -3.57603   -1.18008  ]\n",
      " [-0.737123  -0.947363  -0.45699  ]\n",
      " [-2.00566    1.60794   -0.399287 ]\n",
      " [-2.56704    3.22097    2.65476  ]\n",
      " [ 3.63995   -2.04146    3.05754  ]\n",
      " [ 3.27543    3.93896   -1.72776  ]\n",
      " [ 0.311548   1.10147    0.546629 ]\n",
      " [-2.47146    1.37583    1.23884  ]\n",
      " [-2.43209    1.06086    0.875812 ]\n",
      " [-2.75257   -0.160059   1.46723  ]\n",
      " [-0.79132   -2.998      0.175696 ]\n",
      " [ 1.02875   -1.70727    0.440536 ]\n",
      " [-0.498761   0.581282  -0.409875 ]\n",
      " [-2.83857    0.263698   2.05643  ]\n",
      " [-0.598159  -3.46901    1.02386  ]\n",
      " [-4.60597   -0.997348  -0.524876 ]\n",
      " [ 0.730853  -0.596296  -2.21453  ]\n",
      " [ 1.29994   -1.29897    0.0757194]\n",
      " [ 2.15297   -0.0159131 -1.71414  ]\n",
      " [-3.30582   -2.67634    0.978358 ]\n",
      " [-5.91066   -2.07501    0.49104  ]\n",
      " [ 1.04237   -4.26814   -2.78131  ]\n",
      " [-0.258312  -1.51327    2.95195  ]\n",
      " [ 3.39823    0.819989   4.90599  ]\n",
      " [ 4.52176    5.88376    2.52077  ]\n",
      " [-0.698634   2.39439    0.396722 ]\n",
      " [-2.3557     2.48542   -0.625695 ]\n",
      " [ 0.799046   0.50743   -1.49623  ]\n",
      " [-2.47491   -5.87581    0.964363 ]\n",
      " [-0.423602  -7.87512   -0.527584 ]\n",
      " [-0.642438   0.146718  -3.72387  ]\n",
      " [ 1.89144   -0.320679   2.5482   ]\n",
      " [-0.437305   3.41237   -4.1286   ]\n",
      " [ 0.715667   0.0797937 -0.892407 ]\n",
      " [-0.0893953 -3.2622     4.52617  ]\n",
      " [-1.24623   -1.52539   -1.64661  ]\n",
      " [ 3.63119   -1.27138    0.408061 ]\n",
      " [ 0.994765   5.74766   -2.57533  ]\n",
      " [ 0.23445   -1.72006   -1.72479  ]\n",
      " [ 0.21       2.46282   -0.833657 ]\n",
      " [ 3.0026     5.81772   -2.52493  ]\n",
      " [ 1.29949    3.5711     0.994519 ]\n",
      " [-3.51035   -0.821265  -4.2396   ]\n",
      " [ 2.20724    3.20156   -1.36864  ]\n",
      " [ 2.08434    0.702812   3.5388   ]\n",
      " [-2.09775    0.125136  -5.42682  ]\n",
      " [ 1.24282    2.24802    0.552852 ]\n",
      " [ 1.06281    3.23841   -1.44557  ]]\n",
      "stresses:  [42.28263976 51.07457564 41.4113887  -3.09348688  1.36457974  0.62365129]\n"
     ]
    }
   ],
   "source": [
    "from mlearn.potentials.lammps.calcs import EnergyForceStress\n",
    "\n",
    "struct = Structure.from_file('test_struct.cif')\n",
    "efs_calculator = EnergyForceStress(ff_settings=mtp_loaded)\n",
    "energy, forces, stresses = efs_calculator.calculate([struct])[0]\n",
    "\n",
    "print('energy: {}'.format(energy))\n",
    "print('forces: \\n', forces)\n",
    "print('stresses: ', stresses)"
   ]
  },
  {
   "cell_type": "code",
   "execution_count": null,
   "metadata": {},
   "outputs": [],
   "source": []
  }
 ],
 "metadata": {
  "kernelspec": {
   "display_name": "Python 3",
   "language": "python",
   "name": "python3"
  },
  "language_info": {
   "codemirror_mode": {
    "name": "ipython",
    "version": 3
   },
   "file_extension": ".py",
   "mimetype": "text/x-python",
   "name": "python",
   "nbconvert_exporter": "python",
   "pygments_lexer": "ipython3",
   "version": "3.6.7"
  }
 },
 "nbformat": 4,
 "nbformat_minor": 2
}
