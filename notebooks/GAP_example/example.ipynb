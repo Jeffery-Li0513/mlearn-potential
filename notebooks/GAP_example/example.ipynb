{
 "cells": [
  {
   "cell_type": "markdown",
   "metadata": {},
   "source": [
    "# Load data"
   ]
  },
  {
   "cell_type": "code",
   "execution_count": 1,
   "metadata": {},
   "outputs": [],
   "source": [
    "from pymatgen import Structure\n",
    "from monty.serialization import loadfn\n",
    "\n",
    "data = loadfn('data.json')\n",
    "train_structures = [d['structure'] for d in data]\n",
    "train_energies = [d['outputs']['energy'] for d in data]\n",
    "train_forces = [d['outputs']['forces'] for d in data]"
   ]
  },
  {
   "cell_type": "markdown",
   "metadata": {},
   "source": [
    "# Set up the GAP and train"
   ]
  },
  {
   "cell_type": "code",
   "execution_count": 2,
   "metadata": {},
   "outputs": [
    {
     "data": {
      "text/plain": [
       "0"
      ]
     },
     "execution_count": 2,
     "metadata": {},
     "output_type": "execute_result"
    }
   ],
   "source": [
    "from mlearn.potentials.gap import GAPotential\n",
    "\n",
    "gap = GAPotential()\n",
    "gap.train(train_structures=train_structures, energies=train_energies,\n",
    "          forces=train_forces, sparse_method='cur_points', \n",
    "          l_max=8, n_max=8, e0=-0.97, n_sparse=200, cutoff=5.0)"
   ]
  },
  {
   "cell_type": "markdown",
   "metadata": {},
   "source": [
    "# Lattice constant, Elastic constant"
   ]
  },
  {
   "cell_type": "code",
   "execution_count": 3,
   "metadata": {},
   "outputs": [
    {
     "name": "stdout",
     "output_type": "stream",
     "text": [
      "Lattice a: 3.09752663097197, Lattice b: 3.09752663097197, Lattice c: 3.09752663097197\n"
     ]
    }
   ],
   "source": [
    "from mlearn.potentials.lammps.calcs import LatticeConstant\n",
    "\n",
    "conventional_cell = Structure.from_file('conventional.cif')\n",
    "lc_calculator = LatticeConstant(ff_settings=gap)\n",
    "a, b, c = lc_calculator.calculate([conventional_cell])[0]\n",
    "print('Lattice a: {}, Lattice b: {}, Lattice c: {}'.format(a, b, c))"
   ]
  },
  {
   "cell_type": "code",
   "execution_count": 4,
   "metadata": {},
   "outputs": [
    {
     "name": "stdout",
     "output_type": "stream",
     "text": [
      "C11: 825.973623413894, C12: 520.048832606182, C44: 108.887418997229, bulk modulus: 622.023761105942\n"
     ]
    }
   ],
   "source": [
    "from mlearn.potentials.lammps.calcs import ElasticConstant\n",
    "\n",
    "ec_calculator = ElasticConstant(ff_settings=gap, lattice='bcc', alat=3.106)\n",
    "C11, C12, C44, bulk_modulus = ec_calculator.calculate()\n",
    "print('C11: {}, C12: {}, C44: {}, bulk modulus: {}'.format(C11, C12, C44, bulk_modulus))"
   ]
  },
  {
   "cell_type": "markdown",
   "metadata": {},
   "source": [
    "# Load model from *.xml"
   ]
  },
  {
   "cell_type": "code",
   "execution_count": 5,
   "metadata": {},
   "outputs": [],
   "source": [
    "from pymatgen import Specie\n",
    "\n",
    "gap_loaded = GAPotential.from_config('soap.xml')\n",
    "gap_loaded.specie = Specie('Mo')"
   ]
  },
  {
   "cell_type": "markdown",
   "metadata": {},
   "source": [
    "# Energy, force, stress prediction"
   ]
  },
  {
   "cell_type": "code",
   "execution_count": 6,
   "metadata": {},
   "outputs": [
    {
     "name": "stdout",
     "output_type": "stream",
     "text": [
      "energy: -470.226483634706\n",
      "forces: \n",
      " [[ 5.17220e-01 -2.26974e+00  3.27873e+00]\n",
      " [-6.49528e-01  4.57412e-03 -1.41823e-01]\n",
      " [ 1.51153e+00 -2.94829e+00  3.34419e+00]\n",
      " [ 2.12736e+00  9.95482e-01 -1.37877e+00]\n",
      " [-2.49626e-01  9.50299e-01 -1.03167e+00]\n",
      " [ 1.33313e+00 -2.25837e+00 -9.39224e-01]\n",
      " [ 1.85123e+00 -4.17418e+00 -3.30936e+00]\n",
      " [ 4.79854e-01 -1.85012e-01 -8.00007e-01]\n",
      " [-1.58940e+00  2.14939e+00 -2.11070e-01]\n",
      " [-4.45454e+00  4.20825e+00  3.84693e+00]\n",
      " [ 2.78797e+00 -9.69087e-01  2.26335e+00]\n",
      " [ 2.39265e+00  1.21409e+00 -2.09260e+00]\n",
      " [ 3.37828e-01 -6.94593e-01 -1.39380e+00]\n",
      " [-2.13208e+00  1.14523e-01 -7.58938e-02]\n",
      " [-3.20492e+00  3.38092e+00 -6.10804e-01]\n",
      " [-1.95323e+00  5.38365e-01 -6.36190e-01]\n",
      " [ 1.34853e+00  1.13590e+00  2.50862e+00]\n",
      " [ 2.05813e+00 -3.54593e-01  1.75672e+00]\n",
      " [ 5.43265e-01  1.26891e+00  7.31121e-01]\n",
      " [-3.00155e+00  6.34753e-01  2.64025e+00]\n",
      " [ 5.96724e-02 -4.38550e+00  7.04372e-01]\n",
      " [-3.27469e+00 -1.46320e+00 -6.48063e-01]\n",
      " [ 5.61371e-01 -2.60958e-02 -1.63941e+00]\n",
      " [ 9.35811e-01 -7.15267e-01 -9.67866e-01]\n",
      " [ 2.99718e+00  7.02984e-02 -2.62058e+00]\n",
      " [-1.47803e+00 -7.35382e-01 -1.31373e+00]\n",
      " [-7.00077e+00  6.70713e-01  2.27704e+00]\n",
      " [ 4.57459e+00 -1.85614e+00 -2.38806e+00]\n",
      " [-1.44325e+00 -2.02879e+00  4.67196e+00]\n",
      " [ 3.53540e+00 -7.11921e-01  4.42000e+00]\n",
      " [ 5.29767e+00  9.70399e-02  4.02904e-01]\n",
      " [-1.45125e+00 -6.04313e-01  2.93043e+00]\n",
      " [-3.32826e+00  3.68257e+00 -1.20948e+00]\n",
      " [-5.42054e-01  1.67961e+00 -1.24278e+00]\n",
      " [-3.39619e+00 -1.19577e+00 -3.49284e-01]\n",
      " [-1.62947e-01 -6.66010e+00 -1.03784e+00]\n",
      " [ 6.50350e-02 -2.82660e+00 -1.42901e+00]\n",
      " [ 1.20903e+00 -4.68297e-01  2.82487e+00]\n",
      " [-1.63397e+00  4.72233e+00 -2.14406e+00]\n",
      " [ 5.75529e-01 -1.36678e+00 -4.84516e-01]\n",
      " [ 1.53954e+00 -4.90389e+00  6.89251e+00]\n",
      " [-2.13304e+00 -2.20399e+00 -1.66650e+00]\n",
      " [ 2.75091e+00 -2.71623e-01 -1.31220e-01]\n",
      " [ 2.09552e+00  3.50410e+00 -6.46071e-01]\n",
      " [-1.76407e+00 -3.73832e+00  1.38200e+00]\n",
      " [-1.80489e+00  3.99781e+00 -1.94081e+00]\n",
      " [ 1.40063e+00  2.41457e+00 -1.92335e+00]\n",
      " [ 3.75439e+00  4.72326e+00  4.06599e-01]\n",
      " [-2.10292e+00 -1.66179e-01 -3.58993e+00]\n",
      " [ 1.70874e+00  9.13996e-01 -2.00762e+00]\n",
      " [ 1.87971e+00  1.14679e+00  5.95339e+00]\n",
      " [-3.75062e+00  1.68675e+00 -8.71504e+00]\n",
      " [-1.09983e+00  2.27357e+00  7.17775e-01]\n",
      " [ 1.37222e+00  2.00318e+00 -3.23731e+00]]\n",
      "stresses:  [15.70835429 26.32783574 14.619487   -8.69455594  0.20248474  1.23713571]\n"
     ]
    }
   ],
   "source": [
    "from mlearn.potentials.lammps.calcs import EnergyForceStress\n",
    "\n",
    "struct = Structure.from_file('test_struct.cif')\n",
    "efs_calculator = EnergyForceStress(ff_settings=gap_loaded)\n",
    "energy, forces, stresses = efs_calculator.calculate([struct])[0]\n",
    "\n",
    "print('energy: {}'.format(energy))\n",
    "print('forces: \\n', forces)\n",
    "print('stresses: ', stresses)"
   ]
  },
  {
   "cell_type": "code",
   "execution_count": null,
   "metadata": {},
   "outputs": [],
   "source": []
  }
 ],
 "metadata": {
  "kernelspec": {
   "display_name": "Python 3",
   "language": "python",
   "name": "python3"
  },
  "language_info": {
   "codemirror_mode": {
    "name": "ipython",
    "version": 3
   },
   "file_extension": ".py",
   "mimetype": "text/x-python",
   "name": "python",
   "nbconvert_exporter": "python",
   "pygments_lexer": "ipython3",
   "version": "3.6.7"
  }
 },
 "nbformat": 4,
 "nbformat_minor": 2
}
