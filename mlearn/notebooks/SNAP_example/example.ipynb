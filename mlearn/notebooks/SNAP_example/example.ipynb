{
 "cells": [
  {
   "cell_type": "markdown",
   "metadata": {},
   "source": [
    "# Load data"
   ]
  },
  {
   "cell_type": "code",
   "execution_count": 1,
   "metadata": {},
   "outputs": [],
   "source": [
    "from pymatgen import Structure\n",
    "from monty.serialization import loadfn\n",
    "\n",
    "data = loadfn('data.json')\n",
    "train_structures = [d['structure'] for d in data]\n",
    "train_energies = [d['outputs']['energy'] for d in data]\n",
    "train_forces = [d['outputs']['forces'] for d in data]"
   ]
  },
  {
   "cell_type": "markdown",
   "metadata": {},
   "source": [
    "# Setup the initial weights for training (If not, the weights for energy and force will be both equal to 1)"
   ]
  },
  {
   "cell_type": "code",
   "execution_count": 2,
   "metadata": {},
   "outputs": [],
   "source": [
    "import numpy as np\n",
    "from mlearn.data.processing import pool_from, convert_docs\n",
    "\n",
    "train_pool = pool_from(train_structures, train_energies, train_forces)\n",
    "_, df = convert_docs(train_pool)\n",
    "\n",
    "weights = np.ones(len(df['dtype']), )\n",
    "\n",
    "# set the weights for energy equal to 100\n",
    "weights[df['dtype'] == 'energy'] = 100"
   ]
  },
  {
   "cell_type": "markdown",
   "metadata": {},
   "source": [
    "# Set up the SNAP and train"
   ]
  },
  {
   "cell_type": "code",
   "execution_count": 3,
   "metadata": {},
   "outputs": [],
   "source": [
    "from mlearn.describer.atomic_describer import BispectrumCoefficients\n",
    "from mlearn.model.linear_model import LinearModel\n",
    "from mlearn.potential.snap import SNAPotential\n",
    "\n",
    "element_profile = {'Mo': {'r': 0.5, 'w': 1}}\n",
    "describer = BispectrumCoefficients(rcutfac=5.0, twojmax=6, element_profile=element_profile, \n",
    "                                   quadratic=False, pot_fit=True)\n",
    "model = LinearModel(describer=describer)\n",
    "snap = SNAPotential(model=model)\n",
    "snap.train(train_structures, train_energies, train_forces, weights=weights)"
   ]
  },
  {
   "cell_type": "markdown",
   "metadata": {},
   "source": [
    "# Lattice constant, Elastic constant"
   ]
  },
  {
   "cell_type": "code",
   "execution_count": 4,
   "metadata": {},
   "outputs": [
    {
     "name": "stdout",
     "output_type": "stream",
     "text": [
      "Lattice a: 3.30415747249494, Lattice b: 3.30415747249494, Lattice c: 3.30415747249494\n"
     ]
    }
   ],
   "source": [
    "from mlearn.potential.lammps.calcs import LatticeConstant\n",
    "\n",
    "conventional_cell = Structure.from_file('conventional.cif')\n",
    "lc_calculator = LatticeConstant(ff_settings=snap)\n",
    "a, b, c = lc_calculator.calculate([conventional_cell])[0]\n",
    "print('Lattice a: {}, Lattice b: {}, Lattice c: {}'.format(a, b, c))"
   ]
  },
  {
   "cell_type": "code",
   "execution_count": 5,
   "metadata": {},
   "outputs": [
    {
     "name": "stdout",
     "output_type": "stream",
     "text": [
      "C11: 277.785784355365, C12: 77.0089201323572, C44: 80.7990295693602, bulk modulus: 143.934541540431\n"
     ]
    }
   ],
   "source": [
    "from mlearn.potential.lammps.calcs import ElasticConstant\n",
    "\n",
    "ec_calculator = ElasticConstant(ff_settings=snap, lattice='bcc', alat=3.106)\n",
    "C11, C12, C44, bulk_modulus = ec_calculator.calculate()\n",
    "print('C11: {}, C12: {}, C44: {}, bulk modulus: {}'.format(C11, C12, C44, bulk_modulus))"
   ]
  },
  {
   "cell_type": "markdown",
   "metadata": {},
   "source": [
    "# Load model from parameters files"
   ]
  },
  {
   "cell_type": "code",
   "execution_count": 7,
   "metadata": {},
   "outputs": [],
   "source": [
    "snap_loaded = SNAPotential.from_config(param_file='SNAPotential.snapparam', coeff_file='SNAPotential.snapcoeff')"
   ]
  },
  {
   "cell_type": "markdown",
   "metadata": {},
   "source": [
    "# Energy, force, stress prediction"
   ]
  },
  {
   "cell_type": "code",
   "execution_count": null,
   "metadata": {},
   "outputs": [],
   "source": []
  }
 ],
 "metadata": {
  "kernelspec": {
   "display_name": "Python 3",
   "language": "python",
   "name": "python3"
  },
  "language_info": {
   "codemirror_mode": {
    "name": "ipython",
    "version": 3
   },
   "file_extension": ".py",
   "mimetype": "text/x-python",
   "name": "python",
   "nbconvert_exporter": "python",
   "pygments_lexer": "ipython3",
   "version": "3.6.7"
  }
 },
 "nbformat": 4,
 "nbformat_minor": 2
}
